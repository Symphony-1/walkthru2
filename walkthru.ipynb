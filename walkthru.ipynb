{
 "cells": [
  {
   "cell_type": "markdown",
   "id": "2721e5b9-8d2a-4b7f-8204-0130548bca37",
   "metadata": {},
   "source": [
    "## Walkthru sample notebook"
   ]
  },
  {
   "cell_type": "code",
   "execution_count": 1,
   "id": "ea6ab490-848b-4165-a37a-a5a33e9c4f3d",
   "metadata": {
    "tags": []
   },
   "outputs": [
    {
     "data": {
      "text/plain": [
       "2"
      ]
     },
     "execution_count": 1,
     "metadata": {},
     "output_type": "execute_result"
    }
   ],
   "source": [
    "1+1"
   ]
  },
  {
   "cell_type": "markdown",
   "id": "88fd4cb0-c4df-4c23-bbcc-0131a04152e0",
   "metadata": {},
   "source": [
    "Here how i calculate `1+1`"
   ]
  },
  {
   "cell_type": "code",
   "execution_count": 2,
   "id": "b584a5a5-d2f9-4bda-811b-af6d79283681",
   "metadata": {
    "tags": []
   },
   "outputs": [
    {
     "data": {
      "text/plain": [
       "2"
      ]
     },
     "execution_count": 2,
     "metadata": {},
     "output_type": "execute_result"
    }
   ],
   "source": [
    "1 +1"
   ]
  },
  {
   "cell_type": "code",
   "execution_count": 3,
   "id": "3a4857e0-4bab-4e04-b01d-eb54ba6bc999",
   "metadata": {
    "tags": []
   },
   "outputs": [],
   "source": [
    "from numpy import *"
   ]
  },
  {
   "cell_type": "code",
   "execution_count": 5,
   "id": "248964de-7a1d-4421-9eb7-af1ddff97d1e",
   "metadata": {
    "tags": []
   },
   "outputs": [],
   "source": [
    "a = array([1.0,pi/2])"
   ]
  },
  {
   "cell_type": "code",
   "execution_count": 6,
   "id": "e6a9d83c-883e-41cc-a617-3074dbc89505",
   "metadata": {
    "tags": []
   },
   "outputs": [
    {
     "data": {
      "text/plain": [
       "array([1.        , 1.57079633])"
      ]
     },
     "execution_count": 6,
     "metadata": {},
     "output_type": "execute_result"
    }
   ],
   "source": [
    "a"
   ]
  },
  {
   "cell_type": "code",
   "execution_count": null,
   "id": "dd8e4411-5b2c-4b6f-95db-994aa40d45d3",
   "metadata": {},
   "outputs": [],
   "source": []
  }
 ],
 "metadata": {
  "kernelspec": {
   "display_name": "Python 3 (ipykernel)",
   "language": "python",
   "name": "python3"
  },
  "language_info": {
   "codemirror_mode": {
    "name": "ipython",
    "version": 3
   },
   "file_extension": ".py",
   "mimetype": "text/x-python",
   "name": "python",
   "nbconvert_exporter": "python",
   "pygments_lexer": "ipython3",
   "version": "3.10.9"
  }
 },
 "nbformat": 4,
 "nbformat_minor": 5
}
